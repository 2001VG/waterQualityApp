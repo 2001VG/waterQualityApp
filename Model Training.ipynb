{
 "cells": [
  {
   "cell_type": "code",
   "execution_count": 1,
   "id": "ce8accc4",
   "metadata": {},
   "outputs": [],
   "source": [
    "import numpy as np\n",
    "import pandas as pd"
   ]
  },
  {
   "cell_type": "code",
   "execution_count": 2,
   "id": "cc442302",
   "metadata": {},
   "outputs": [
    {
     "name": "stdout",
     "output_type": "stream",
     "text": [
      "<class 'pandas.core.frame.DataFrame'>\n",
      "RangeIndex: 2538 entries, 0 to 2537\n",
      "Data columns (total 10 columns):\n",
      " #   Column           Non-Null Count  Dtype  \n",
      "---  ------           --------------  -----  \n",
      " 0   ph               2538 non-null   float64\n",
      " 1   Hardness         2538 non-null   float64\n",
      " 2   Solids           2538 non-null   float64\n",
      " 3   Chloramines      2538 non-null   float64\n",
      " 4   Sulfate          2538 non-null   float64\n",
      " 5   Conductivity     2538 non-null   float64\n",
      " 6   Organic_carbon   2538 non-null   float64\n",
      " 7   Trihalomethanes  2538 non-null   float64\n",
      " 8   Turbidity        2538 non-null   float64\n",
      " 9   Potability       2538 non-null   int64  \n",
      "dtypes: float64(9), int64(1)\n",
      "memory usage: 198.4 KB\n",
      "None\n",
      "<class 'pandas.core.frame.DataFrame'>\n",
      "RangeIndex: 2538 entries, 0 to 2537\n",
      "Data columns (total 10 columns):\n",
      " #   Column           Non-Null Count  Dtype  \n",
      "---  ------           --------------  -----  \n",
      " 0   ph               2538 non-null   float64\n",
      " 1   Hardness         2538 non-null   float64\n",
      " 2   Solids           2538 non-null   float64\n",
      " 3   Chloramines      2538 non-null   float64\n",
      " 4   Sulfate          2538 non-null   float64\n",
      " 5   Conductivity     2538 non-null   float64\n",
      " 6   Organic_carbon   2538 non-null   float64\n",
      " 7   Trihalomethanes  2538 non-null   float64\n",
      " 8   Turbidity        2538 non-null   float64\n",
      " 9   Potability       2538 non-null   int64  \n",
      "dtypes: float64(9), int64(1)\n",
      "memory usage: 198.4 KB\n",
      "None\n"
     ]
    }
   ],
   "source": [
    "df1 = pd.read_csv('water_quality_categorized.csv')\n",
    "df2 = pd.read_csv('water_quality_normalized.csv')\n",
    "\n",
    "print(df1.info())\n",
    "print(df2.info())"
   ]
  },
  {
   "cell_type": "code",
   "execution_count": 3,
   "id": "ef97c52a",
   "metadata": {},
   "outputs": [],
   "source": [
    "df1_features = df1.loc[:, df1.columns != 'Potability']\n",
    "df1_label = df1.Potability\n",
    "\n",
    "df2_features = df2.loc[:, df2.columns != 'Potability']\n",
    "df2_label = df2.Potability"
   ]
  },
  {
   "cell_type": "code",
   "execution_count": 4,
   "id": "9506405c",
   "metadata": {},
   "outputs": [],
   "source": [
    "from sklearn.model_selection import train_test_split\n",
    "\n",
    "df1_train_X, df1_test_X, df1_train_Y, df1_test_Y = train_test_split(df1_features ,df1_label, test_size= 0.2, random_state=1234)\n",
    "df2_train_X, df2_test_X, df2_train_Y, df2_test_Y = train_test_split(df2_features ,df2_label, test_size= 0.2, random_state=1234)"
   ]
  },
  {
   "cell_type": "code",
   "execution_count": 10,
   "id": "ef3ee9a4",
   "metadata": {},
   "outputs": [
    {
     "name": "stdout",
     "output_type": "stream",
     "text": [
      "Confusion matrix for categorized: [[166 100]\n",
      " [ 77 165]]\n",
      "Accuracy : 0.6515748031496063, precision : 0.6226415094339622, recall : 0.6818181818181818\n",
      "\n",
      "Confusion matrix for uncategorized: [[184  82]\n",
      " [ 56 186]]\n",
      "Accuracy : 0.7283464566929134, precision : 0.6940298507462687, recall : 0.768595041322314\n"
     ]
    }
   ],
   "source": [
    "from sklearn.ensemble import RandomForestClassifier\n",
    "\n",
    "RFC_1 = RandomForestClassifier() # categorized\n",
    "RFC_1.fit(df1_train_X, df1_train_Y)\n",
    "\n",
    "RFC_2 = RandomForestClassifier() # uncategorized\n",
    "RFC_2.fit(df2_train_X, df2_train_Y)\n",
    "\n",
    "RFC1_results = RFC_1.predict(df1_test_X)\n",
    "RFC2_results = RFC_2.predict(df2_test_X)\n",
    "\n",
    "cfm_1_RFC = metrics.confusion_matrix(df1_test_Y, RFC1_results)\n",
    "cfm_2_RFC = metrics.confusion_matrix(df2_test_Y, RFC2_results)\n",
    "\n",
    "accuracy1_RFC = metrics.accuracy_score(df1_test_Y, RFC1_results)\n",
    "accuracy2_RFC = metrics.accuracy_score(df2_test_Y, RFC2_results)\n",
    "\n",
    "precision1_RFC = metrics.precision_score(df1_test_Y, RFC1_results)\n",
    "precision2_RFC = metrics.precision_score(df2_test_Y, RFC2_results)\n",
    "\n",
    "recall1_RFC = metrics.recall_score(df1_test_Y, RFC1_results)\n",
    "recall2_RFC = metrics.recall_score(df2_test_Y, RFC2_results)\n",
    "\n",
    "print(\"Confusion matrix for categorized: {}\".format(cfm_1_RFC))\n",
    "print(\"Accuracy : {}, precision : {}, recall : {}\".format(accuracy1_RFC, precision1_RFC, recall1_RFC))\n",
    "print()\n",
    "print(\"Confusion matrix for uncategorized: {}\".format(cfm_2_RFC))\n",
    "print(\"Accuracy : {}, precision : {}, recall : {}\".format(accuracy2_RFC, precision2_RFC, recall2_RFC))"
   ]
  },
  {
   "cell_type": "code",
   "execution_count": 11,
   "id": "89afbd66",
   "metadata": {},
   "outputs": [],
   "source": [
    "import pickle\n",
    "\n",
    "model_name = 'water_Quality_best_model.pkl'\n",
    "pickle.dump(RFC_2, open(model_name, 'wb'))"
   ]
  },
  {
   "cell_type": "code",
   "execution_count": 13,
   "id": "faecb9d6",
   "metadata": {},
   "outputs": [
    {
     "name": "stdout",
     "output_type": "stream",
     "text": [
      "0.7283464566929134\n"
     ]
    }
   ],
   "source": [
    "load_model = pickle.load(open(model_name, 'rb'))\n",
    "test_result = load_model.score(df2_test_X, df2_test_Y)\n",
    "print(test_result)"
   ]
  },
  {
   "cell_type": "code",
   "execution_count": null,
   "id": "1aca8549",
   "metadata": {},
   "outputs": [],
   "source": []
  }
 ],
 "metadata": {
  "kernelspec": {
   "display_name": "Python 3 (ipykernel)",
   "language": "python",
   "name": "python3"
  },
  "language_info": {
   "codemirror_mode": {
    "name": "ipython",
    "version": 3
   },
   "file_extension": ".py",
   "mimetype": "text/x-python",
   "name": "python",
   "nbconvert_exporter": "python",
   "pygments_lexer": "ipython3",
   "version": "3.9.7"
  }
 },
 "nbformat": 4,
 "nbformat_minor": 5
}
