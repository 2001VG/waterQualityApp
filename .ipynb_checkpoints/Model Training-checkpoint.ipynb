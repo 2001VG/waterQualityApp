{
 "cells": [
  {
   "cell_type": "code",
   "execution_count": 1,
   "id": "ce8accc4",
   "metadata": {},
   "outputs": [],
   "source": [
    "import numpy as np\n",
    "import pandas as pd"
   ]
  },
  {
   "cell_type": "code",
   "execution_count": 2,
   "id": "cc442302",
   "metadata": {},
   "outputs": [
    {
     "name": "stdout",
     "output_type": "stream",
     "text": [
      "<class 'pandas.core.frame.DataFrame'>\n",
      "RangeIndex: 2538 entries, 0 to 2537\n",
      "Data columns (total 10 columns):\n",
      " #   Column           Non-Null Count  Dtype  \n",
      "---  ------           --------------  -----  \n",
      " 0   ph               2538 non-null   float64\n",
      " 1   Hardness         2538 non-null   float64\n",
      " 2   Solids           2538 non-null   float64\n",
      " 3   Chloramines      2538 non-null   float64\n",
      " 4   Sulfate          2538 non-null   float64\n",
      " 5   Conductivity     2538 non-null   float64\n",
      " 6   Organic_carbon   2538 non-null   float64\n",
      " 7   Trihalomethanes  2538 non-null   float64\n",
      " 8   Turbidity        2538 non-null   float64\n",
      " 9   Potability       2538 non-null   int64  \n",
      "dtypes: float64(9), int64(1)\n",
      "memory usage: 198.4 KB\n",
      "None\n",
      "<class 'pandas.core.frame.DataFrame'>\n",
      "RangeIndex: 2538 entries, 0 to 2537\n",
      "Data columns (total 10 columns):\n",
      " #   Column           Non-Null Count  Dtype  \n",
      "---  ------           --------------  -----  \n",
      " 0   ph               2538 non-null   float64\n",
      " 1   Hardness         2538 non-null   float64\n",
      " 2   Solids           2538 non-null   float64\n",
      " 3   Chloramines      2538 non-null   float64\n",
      " 4   Sulfate          2538 non-null   float64\n",
      " 5   Conductivity     2538 non-null   float64\n",
      " 6   Organic_carbon   2538 non-null   float64\n",
      " 7   Trihalomethanes  2538 non-null   float64\n",
      " 8   Turbidity        2538 non-null   float64\n",
      " 9   Potability       2538 non-null   int64  \n",
      "dtypes: float64(9), int64(1)\n",
      "memory usage: 198.4 KB\n",
      "None\n"
     ]
    }
   ],
   "source": [
    "df1 = pd.read_csv('water_quality_categorized.csv')\n",
    "df2 = pd.read_csv('water_quality_normalized.csv')\n",
    "\n",
    "print(df1.info())\n",
    "print(df2.info())"
   ]
  },
  {
   "cell_type": "code",
   "execution_count": 3,
   "id": "ef97c52a",
   "metadata": {},
   "outputs": [],
   "source": [
    "df1_features = df1.loc[:, df1.columns != 'Potability']\n",
    "df1_label = df1.Potability\n",
    "\n",
    "df2_features = df2.loc[:, df2.columns != 'Potability']\n",
    "df2_label = df2.Potability"
   ]
  },
  {
   "cell_type": "code",
   "execution_count": 4,
   "id": "9506405c",
   "metadata": {},
   "outputs": [],
   "source": [
    "from sklearn.model_selection import train_test_split\n",
    "\n",
    "df1_train_X, df1_test_X, df1_train_Y, df1_test_Y = train_test_split(df1_features ,df1_label, test_size= 0.2, random_state=1234)\n",
    "df2_train_X, df2_test_X, df2_train_Y, df2_test_Y = train_test_split(df2_features ,df2_label, test_size= 0.2, random_state=1234)"
   ]
  },
  {
   "cell_type": "code",
   "execution_count": 8,
   "id": "4b537fba",
   "metadata": {},
   "outputs": [
    {
     "ename": "ImportError",
     "evalue": "cannot import name 'LogisticRegression' from 'sklearn.model_selection' (C:\\ProgramData\\Anaconda3\\lib\\site-packages\\sklearn\\model_selection\\__init__.py)",
     "output_type": "error",
     "traceback": [
      "\u001b[1;31m---------------------------------------------------------------------------\u001b[0m",
      "\u001b[1;31mImportError\u001b[0m                               Traceback (most recent call last)",
      "\u001b[1;32m~\\AppData\\Local\\Temp/ipykernel_11984/1517754083.py\u001b[0m in \u001b[0;36m<module>\u001b[1;34m\u001b[0m\n\u001b[1;32m----> 1\u001b[1;33m \u001b[1;32mfrom\u001b[0m \u001b[0msklearn\u001b[0m\u001b[1;33m.\u001b[0m\u001b[0mmodel_selection\u001b[0m \u001b[1;32mimport\u001b[0m \u001b[0mLogisticRegression\u001b[0m\u001b[1;33m\u001b[0m\u001b[1;33m\u001b[0m\u001b[0m\n\u001b[0m\u001b[0;32m      2\u001b[0m \u001b[1;33m\u001b[0m\u001b[0m\n\u001b[0;32m      3\u001b[0m \u001b[0mLR_1\u001b[0m \u001b[1;33m=\u001b[0m \u001b[0mLogisticRegression\u001b[0m\u001b[1;33m(\u001b[0m\u001b[1;33m)\u001b[0m \u001b[1;31m# categorized\u001b[0m\u001b[1;33m\u001b[0m\u001b[1;33m\u001b[0m\u001b[0m\n\u001b[0;32m      4\u001b[0m \u001b[0mLR_1\u001b[0m\u001b[1;33m.\u001b[0m\u001b[0mfit\u001b[0m\u001b[1;33m(\u001b[0m\u001b[0mdf1_train_X\u001b[0m\u001b[1;33m,\u001b[0m \u001b[0mdf1_train_Y\u001b[0m\u001b[1;33m)\u001b[0m\u001b[1;33m\u001b[0m\u001b[1;33m\u001b[0m\u001b[0m\n\u001b[0;32m      5\u001b[0m \u001b[1;33m\u001b[0m\u001b[0m\n",
      "\u001b[1;31mImportError\u001b[0m: cannot import name 'LogisticRegression' from 'sklearn.model_selection' (C:\\ProgramData\\Anaconda3\\lib\\site-packages\\sklearn\\model_selection\\__init__.py)"
     ]
    }
   ],
   "source": [
    "from sklearn.linear_model import LogisticRegression\n",
    "\n",
    "LR_1 = LogisticRegression() # categorized\n",
    "LR_1.fit(df1_train_X, df1_train_Y)\n",
    "\n",
    "LR_2 = LogisticRegression() # uncategorized\n",
    "LR_2.fit(df2_train_X, df2_train_Y)\n",
    "\n",
    "LR1_results = LR_1.predict(df1_test_X)\n",
    "LR2_results = LR_2.predict(df2_test_X)\n",
    "\n",
    "cfm_1_LR = metrics.confusion_matrix(df1_test_Y, LR1_results)\n",
    "cfm_2_LR = metrics.confusion_matrix(df2_test_Y, LR2_results)\n",
    "\n",
    "accuracy1_LR = metrics.accuracy_score(df1_test_Y, LR1_results)\n",
    "accuracy2_LR = metrics.accuracy_score(df2_test_Y, LR2_results)\n",
    "\n",
    "precision1_LR = metrics.precision_score(df1_test_Y, RFC1_results)\n",
    "precision2_LR = metrics.precision_score(df2_test_Y, RFC2_results)\n",
    "\n",
    "recall1_LR = metrics.recall_score(df1_test_Y, LR1_results)\n",
    "recall2_LR = metrics.recall_score(df2_test_Y, LR2_results)\n",
    "\n",
    "print(\"Confusion matrix for categorized: {}\".format(cfm_1_LR))\n",
    "print(\"Accuracy : {}, precision : {}, recall : {}\".format(accuracy1_LR, precision1_LR, recall1_LR))\n",
    "print()\n",
    "print(\"Confusion matrix for uncategorized: {}\".format(cfm_2_LR))\n",
    "print(\"Accuracy : {}, precision : {}, recall : {}\".format(accuracy2_LR, precision2_LR, recall2_LR))"
   ]
  },
  {
   "cell_type": "code",
   "execution_count": null,
   "id": "b621f3ff",
   "metadata": {},
   "outputs": [],
   "source": []
  }
 ],
 "metadata": {
  "kernelspec": {
   "display_name": "Python 3 (ipykernel)",
   "language": "python",
   "name": "python3"
  },
  "language_info": {
   "codemirror_mode": {
    "name": "ipython",
    "version": 3
   },
   "file_extension": ".py",
   "mimetype": "text/x-python",
   "name": "python",
   "nbconvert_exporter": "python",
   "pygments_lexer": "ipython3",
   "version": "3.9.7"
  }
 },
 "nbformat": 4,
 "nbformat_minor": 5
}
